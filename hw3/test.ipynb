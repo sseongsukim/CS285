{
 "cells": [
  {
   "cell_type": "code",
   "id": "initial_id",
   "metadata": {
    "collapsed": true,
    "ExecuteTime": {
     "end_time": "2024-07-07T09:34:08.170462Z",
     "start_time": "2024-07-07T09:34:08.165617Z"
    }
   },
   "source": [
    "import torch\n",
    "from torch import distributions\n",
    "import numpy as np\n",
    "\n",
    "mean = torch.from_numpy(np.random.uniform(low= -1, high= 3, size= (5, 2)))\n",
    "std = torch.from_numpy(np.random.uniform(low= 0.01, high= 0.3, size= (5, 2))) * 0.0001 \n",
    "\n",
    "action_distribution = distributions.Normal(loc= mean, scale= std.exp())\n",
    "action_distribution"
   ],
   "outputs": [
    {
     "data": {
      "text/plain": [
       "Normal(loc: torch.Size([5, 2]), scale: torch.Size([5, 2]))"
      ]
     },
     "execution_count": 69,
     "metadata": {},
     "output_type": "execute_result"
    }
   ],
   "execution_count": 69
  },
  {
   "metadata": {
    "ExecuteTime": {
     "end_time": "2024-07-07T09:34:08.537402Z",
     "start_time": "2024-07-07T09:34:08.533598Z"
    }
   },
   "cell_type": "code",
   "source": [
    "action1 = torch.from_numpy(np.random.uniform(low= -3, high= -2, size= (5, 2)))\n",
    "action1"
   ],
   "id": "cb1d15fe7ff46b5c",
   "outputs": [
    {
     "data": {
      "text/plain": [
       "tensor([[-2.7486, -2.2866],\n",
       "        [-2.7019, -2.6484],\n",
       "        [-2.6619, -2.4281],\n",
       "        [-2.6115, -2.2826],\n",
       "        [-2.6945, -2.9696]], dtype=torch.float64)"
      ]
     },
     "execution_count": 70,
     "metadata": {},
     "output_type": "execute_result"
    }
   ],
   "execution_count": 70
  },
  {
   "metadata": {
    "ExecuteTime": {
     "end_time": "2024-07-07T09:34:08.854305Z",
     "start_time": "2024-07-07T09:34:08.850853Z"
    }
   },
   "cell_type": "code",
   "source": [
    "log_prob = action_distribution.log_prob(action1)\n",
    "-log_prob.mean()"
   ],
   "id": "c58c5a0f35cc76da",
   "outputs": [
    {
     "data": {
      "text/plain": [
       "tensor(7.6091, dtype=torch.float64)"
      ]
     },
     "execution_count": 71,
     "metadata": {},
     "output_type": "execute_result"
    }
   ],
   "execution_count": 71
  },
  {
   "metadata": {
    "ExecuteTime": {
     "end_time": "2024-07-07T06:35:52.307062Z",
     "start_time": "2024-07-07T06:35:52.303358Z"
    }
   },
   "cell_type": "code",
   "source": [
    "import numpy as np\n",
    "\n",
    "def safe_log_probs(probabilities):\n",
    "    # Ensure probabilities are within the valid range\n",
    "    if np.any(probabilities <= 0) or np.any(probabilities > 1):\n",
    "        raise ValueError(\"Probabilities must be in the range (0, 1].\")\n",
    "\n",
    "    # Compute log probabilities\n",
    "    return np.log(probabilities)\n",
    "\n",
    "# Example usage\n",
    "probabilities = np.array([0.2, 0.5, 0.3])\n",
    "log_probs = safe_log_probs(probabilities)\n",
    "print(log_probs)"
   ],
   "id": "d99f4f40b86d2382",
   "outputs": [
    {
     "name": "stdout",
     "output_type": "stream",
     "text": [
      "[-1.60943791 -0.69314718 -1.2039728 ]\n"
     ]
    }
   ],
   "execution_count": 32
  },
  {
   "metadata": {
    "ExecuteTime": {
     "end_time": "2024-07-07T06:35:55.917913Z",
     "start_time": "2024-07-07T06:35:55.915319Z"
    }
   },
   "cell_type": "code",
   "source": [
    "import numpy as np\n",
    "\n",
    "# Example of incorrect probabilities that could lead to positive log_probs\n",
    "incorrect_probabilities = np.array([1.5, 2.0, 3.0])  # Values outside the range (0, 1]\n",
    "\n",
    "# Compute log probabilities\n",
    "log_probs = np.log(incorrect_probabilities)\n",
    "\n",
    "print(\"Incorrect Probabilities:\", incorrect_probabilities)\n",
    "print(\"Log Probabilities:\", log_probs)\n"
   ],
   "id": "576bad2580f6ce29",
   "outputs": [
    {
     "name": "stdout",
     "output_type": "stream",
     "text": [
      "Incorrect Probabilities: [1.5 2.  3. ]\n",
      "Log Probabilities: [0.40546511 0.69314718 1.09861229]\n"
     ]
    }
   ],
   "execution_count": 33
  },
  {
   "metadata": {
    "ExecuteTime": {
     "end_time": "2024-07-07T07:05:52.255346Z",
     "start_time": "2024-07-07T07:05:52.253149Z"
    }
   },
   "cell_type": "code",
   "source": [
    "a = torch.tensor([[1, 2, 3], [4, 5, 6]])\n",
    "print(a.shape)"
   ],
   "id": "8f59a831aeaf86da",
   "outputs": [
    {
     "name": "stdout",
     "output_type": "stream",
     "text": [
      "torch.Size([2, 3])\n"
     ]
    }
   ],
   "execution_count": 35
  },
  {
   "metadata": {
    "ExecuteTime": {
     "end_time": "2024-07-07T07:06:11.320045Z",
     "start_time": "2024-07-07T07:06:11.317311Z"
    }
   },
   "cell_type": "code",
   "source": [
    "b = a[[1, 0], :]\n",
    "print(b)"
   ],
   "id": "5ee254b3c6e660f5",
   "outputs": [
    {
     "name": "stdout",
     "output_type": "stream",
     "text": [
      "tensor([[4, 5, 6],\n",
      "        [1, 2, 3]])\n"
     ]
    }
   ],
   "execution_count": 37
  },
  {
   "metadata": {},
   "cell_type": "code",
   "outputs": [],
   "execution_count": null,
   "source": "",
   "id": "6d73bf4148fbe017"
  }
 ],
 "metadata": {
  "kernelspec": {
   "display_name": "Python 3",
   "language": "python",
   "name": "python3"
  },
  "language_info": {
   "codemirror_mode": {
    "name": "ipython",
    "version": 2
   },
   "file_extension": ".py",
   "mimetype": "text/x-python",
   "name": "python",
   "nbconvert_exporter": "python",
   "pygments_lexer": "ipython2",
   "version": "2.7.6"
  }
 },
 "nbformat": 4,
 "nbformat_minor": 5
}
